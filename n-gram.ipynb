{
 "cells": [
  {
   "cell_type": "markdown",
   "metadata": {},
   "source": [
    "## N-GRAMS\n",
    "\n",
    "This notebook shows a very crude, ineffecient, but easy to follow implementation of N-grams. \n",
    "\n",
    "N-grams are simply all combinations of adjacent words length n that you can find in your source text."
   ]
  },
  {
   "cell_type": "code",
   "execution_count": 24,
   "metadata": {},
   "outputs": [
    {
     "name": "stdout",
     "output_type": "stream",
     "text": [
      "only\n"
     ]
    }
   ],
   "source": [
    "import numpy as np\n",
    "\n",
    "# read a corpus of text\n",
    "text = \"This is a test.  This is only a test.  A test is a good thing.  A good thing is a test.\"\n",
    "\n",
    "# split the text into words\n",
    "words = text.lower().split()\n",
    "\n",
    "# create a list of all word pairs/triples/etc\n",
    "# use dictionary comprehension\n",
    "two_grams = [\" \".join(words[i:i+2]) for i in range(len(words)-1)]\n",
    "three_grams = [\" \".join(words[i:i+3]) for i in range(len(words)-2)]\n",
    "\n",
    "# calculate the probability for each third word given the first two words\n",
    "# use a dictionary comprehension\n",
    "def sample_next(word1, word2):\n",
    "    word1 = word1.lower()\n",
    "    word2 = word2.lower()\n",
    "\n",
    "    third_words = []\n",
    "\n",
    "    # stick word 1 and 2 together\n",
    "    two = word1 + \" \" + word2\n",
    "\n",
    "    # find third word counts\n",
    "    for three_gram in three_grams:\n",
    "        if three_gram.startswith(two):\n",
    "            third_words.append(three_gram.split(\" \")[-1])\n",
    "    \n",
    "    # count third words\n",
    "    counts = {i:third_words.count(i) for i in third_words}\n",
    "\n",
    "    # normalize counts to get probabilities\n",
    "    total = sum(counts.values())\n",
    "\n",
    "    for key in counts:\n",
    "        counts[key] = counts[key] / total\n",
    "\n",
    "    # sample according to counts\n",
    "    return np.random.choice(list(counts.keys()), p=list(counts.values()))\n",
    "\n",
    "print(sample_next(\"this\", \"is\"))\n",
    "\n"
   ]
  }
 ],
 "metadata": {
  "kernelspec": {
   "display_name": ".venv",
   "language": "python",
   "name": "python3"
  },
  "language_info": {
   "codemirror_mode": {
    "name": "ipython",
    "version": 3
   },
   "file_extension": ".py",
   "mimetype": "text/x-python",
   "name": "python",
   "nbconvert_exporter": "python",
   "pygments_lexer": "ipython3",
   "version": "3.11.1"
  },
  "orig_nbformat": 4
 },
 "nbformat": 4,
 "nbformat_minor": 2
}
